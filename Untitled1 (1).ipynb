{
 "cells": [
  {
   "cell_type": "code",
   "execution_count": 45,
   "id": "9e36c1f2-aa47-4a2a-9d7b-36cccdd9ae6f",
   "metadata": {},
   "outputs": [],
   "source": [
    "import logging\n",
    "import os\n",
    "import pafy\n",
    "import youtube_dl"
   ]
  },
  {
   "cell_type": "code",
   "execution_count": 46,
   "id": "099aa437-9877-46c8-a317-964cfacf641e",
   "metadata": {},
   "outputs": [
    {
     "name": "stdout",
     "output_type": "stream",
     "text": [
      "Requirement already satisfied: pafy in /opt/conda/lib/python3.10/site-packages (0.5.5)\n",
      "Note: you may need to restart the kernel to use updated packages.\n"
     ]
    }
   ],
   "source": [
    "pip install pafy"
   ]
  },
  {
   "cell_type": "code",
   "execution_count": 47,
   "id": "5fb6e83f-9afe-4e0b-99f7-6a74436fde68",
   "metadata": {},
   "outputs": [
    {
     "name": "stdout",
     "output_type": "stream",
     "text": [
      "Requirement already satisfied: youtube_dl in /opt/conda/lib/python3.10/site-packages (2021.12.17)\n",
      "Note: you may need to restart the kernel to use updated packages.\n"
     ]
    }
   ],
   "source": [
    "pip install youtube_dl"
   ]
  },
  {
   "cell_type": "code",
   "execution_count": null,
   "id": "36bc6439-37b3-4486-b06c-f5fa70257807",
   "metadata": {},
   "outputs": [],
   "source": [
    "url1 =[ \"https://youtu.be/0s6hAsFGxYE\" ,\"https://youtu.be/YXRyMc_noiE\" ,\"https://youtu.be/PI1obes98Zc\" ,\"https://youtu.be/16fUsD0M1-I\",\"https://youtu.be/S0RySN5arvk\"]\n",
    "\n",
    "for i in url1:\n",
    "    review=print(f\"review : {i.review}\")\n",
    "    view=print(f\"view : {i.view}\")\n",
    "    likes=print(f\"likes : {i.likes}\")\n",
    "    \n"
   ]
  },
  {
   "cell_type": "code",
   "execution_count": null,
   "id": "489dbba3-62ef-48a8-9fef-d5601b03973f",
   "metadata": {},
   "outputs": [],
   "source": [
    "x = \"save/\"\n",
    "\n",
    "if os.path.exists(x):\n",
    "    os.mkdir(x)\n",
    "    \n",
    "with open(os.path.join(x)) as a:\n",
    "    a.write(review)\n",
    "    \n",
    "if os.path.exists(y):\n",
    "    os.mkdir(y)\n",
    "    \n",
    "with open(os.path.join(y)) as b :\n",
    "    b.write(view)\n",
    "    \n",
    "if os.path.exists(z):\n",
    "    os.mkdir(z)\n",
    "with open"
   ]
  },
  {
   "cell_type": "code",
   "execution_count": null,
   "id": "481e194b-e519-431d-b6fa-8b8e82635a2c",
   "metadata": {},
   "outputs": [],
   "source": [
    "with open(os.path.join(x)) as f:\n",
    "    f.write(review)"
   ]
  },
  {
   "cell_type": "code",
   "execution_count": null,
   "id": "d44229ed-0a5a-4c98-a690-a0988a7b8e0d",
   "metadata": {},
   "outputs": [],
   "source": []
  }
 ],
 "metadata": {
  "kernelspec": {
   "display_name": "Python 3 (ipykernel)",
   "language": "python",
   "name": "python3"
  },
  "language_info": {
   "codemirror_mode": {
    "name": "ipython",
    "version": 3
   },
   "file_extension": ".py",
   "mimetype": "text/x-python",
   "name": "python",
   "nbconvert_exporter": "python",
   "pygments_lexer": "ipython3",
   "version": "3.10.8"
  }
 },
 "nbformat": 4,
 "nbformat_minor": 5
}
